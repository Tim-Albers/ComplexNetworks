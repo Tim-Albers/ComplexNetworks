{
 "cells": [
  {
   "cell_type": "markdown",
   "metadata": {},
   "source": [
    "Vraag A. 1."
   ]
  },
  {
   "cell_type": "code",
   "execution_count": 1,
   "metadata": {},
   "outputs": [
    {
     "name": "stdout",
     "output_type": "stream",
     "text": [
      "Number of nodes (N): 401\n",
      "Number of links (L): 9415\n",
      "Average degree (E[D]): 46.957605985037404\n",
      "Standard deviation of the degree (sqrt(Var[D])): 29.918521078014955\n"
     ]
    }
   ],
   "source": [
    "import pandas as pd\n",
    "import networkx as nx\n",
    "import numpy as np\n",
    "import matplotlib.pyplot as plt\n",
    "\n",
    "# Load the dataset\n",
    "file_path = \"/Users/martijn/Documents/belangrijk/Studie/Complex_networks/SFHH2025.xlsx\"\n",
    "df = pd.read_excel(file_path, sheet_name=\"Sheet1\")\n",
    "\n",
    "# Create an undirected graph from the dataset\n",
    "G = nx.Graph()\n",
    "\n",
    "# Add edges, ignoring time steps\n",
    "edges = df[['id1', 'id2']].drop_duplicates().values.tolist()\n",
    "G.add_edges_from(edges)\n",
    "\n",
    "# 1. Number of nodes (N)\n",
    "N = len(G.nodes())\n",
    "\n",
    "# 2. Number of links (L)\n",
    "L = len(G.edges())\n",
    "\n",
    "# 3. Compute degree of each node\n",
    "degrees = np.array([d for _, d in G.degree()])\n",
    "\n",
    "# 4. Compute the average degree E[D]\n",
    "E_D = np.mean(degrees)\n",
    "\n",
    "# 5. Compute the standard deviation of the degree sqrt(Var[D])\n",
    "std_D = np.std(degrees)\n",
    "\n",
    "# Print results\n",
    "print(\"Number of nodes (N):\", N)\n",
    "print(\"Number of links (L):\", L)\n",
    "print(\"Average degree (E[D]):\", E_D)\n",
    "print(\"Standard deviation of the degree (sqrt(Var[D])):\", std_D)\n"
   ]
  },
  {
   "cell_type": "markdown",
   "metadata": {},
   "source": [
    "A. 2."
   ]
  },
  {
   "cell_type": "code",
   "execution_count": 2,
   "metadata": {},
   "outputs": [
    {
     "data": {
      "image/png": "[encoded data removed]",
      "text/plain": [
       "<Figure size 576x360 with 1 Axes>"
      ]
     },
     "metadata": {
      "needs_background": "light"
     },
     "output_type": "display_data"
    }
   ],
   "source": [
    "# Compute degree of each node\n",
    "degrees = np.array([d for _, d in G.degree()])\n",
    "\n",
    "# Plot histogram\n",
    "plt.figure(figsize=(8, 5))\n",
    "plt.hist(degrees, bins=30, color=\"blue\", alpha=0.7, edgecolor=\"black\", density=True)\n",
    "\n",
    "# Set y-axis to log scale\n",
    "# plt.yscale(\"log\")\n",
    "\n",
    "# Labels and title\n",
    "plt.xlabel(\"Degree (k)\")\n",
    "plt.ylabel(\"P(k)\")\n",
    "plt.title(\"Degree Distribution Histogram\")\n",
    "plt.grid(True, which=\"both\", linestyle=\"--\", linewidth=0.5)\n",
    "plt.show()\n"
   ]
  },
  {
   "cell_type": "markdown",
   "metadata": {},
   "source": [
    "Lijkt op ER random model. later nog verder uitwerken"
   ]
  },
  {
   "cell_type": "markdown",
   "metadata": {},
   "source": [
    "Vraag A. 3."
   ]
  },
  {
   "cell_type": "code",
   "execution_count": 4,
   "metadata": {},
   "outputs": [
    {
     "name": "stdout",
     "output_type": "stream",
     "text": [
      "Degree assortativity coefficient (ρD): -0.08190596963063947\n"
     ]
    }
   ],
   "source": [
    "assortativity = nx.degree_assortativity_coefficient(G)\n",
    "print(\"Degree assortativity coefficient (ρD):\", assortativity)\n"
   ]
  },
  {
   "cell_type": "markdown",
   "metadata": {},
   "source": [
    "ρ D <0 (Disassortative Mixing): High-degree nodes tend to connect to low-degree nodes. This is often seen in technological and biological networks (e.g., power grids, metabolic networks).If your dataset represents a contact network, a positive assortativity (ρD>0ρ D​\t >0) suggests that individuals with many contacts tend to interact with other well-connected individuals. A negative assortativity (ρD<0ρ D<0) suggests that well-connected individuals interact more frequently with those who have fewer connections, which is often seen in epidemic spread models.\n",
    "\n"
   ]
  },
  {
   "cell_type": "markdown",
   "metadata": {},
   "source": [
    "Vraag A.4."
   ]
  },
  {
   "cell_type": "code",
   "execution_count": 5,
   "metadata": {},
   "outputs": [
    {
     "name": "stdout",
     "output_type": "stream",
     "text": [
      "Average clustering coefficient (C): 0.2812358620467742\n"
     ]
    }
   ],
   "source": [
    "clustering_local = nx.clustering(G)  # Returns a dictionary {node: c_i}\n",
    "C_avg = nx.average_clustering(G)\n",
    "print(\"Average clustering coefficient (C):\", C_avg)\n",
    "\n"
   ]
  },
  {
   "cell_type": "markdown",
   "metadata": {},
   "source": [
    "Vraag A.5."
   ]
  },
  {
   "cell_type": "code",
   "execution_count": 6,
   "metadata": {},
   "outputs": [
    {
     "name": "stdout",
     "output_type": "stream",
     "text": [
      "Average hopcount (E[H]): 1.9547007481296759\n",
      "Network diameter (Hmax): 4\n"
     ]
    }
   ],
   "source": [
    "E_H = nx.average_shortest_path_length(G)\n",
    "print(\"Average hopcount (E[H]):\", E_H)\n",
    "H_max = nx.diameter(G)\n",
    "print(\"Network diameter (Hmax):\", H_max)\n"
   ]
  },
  {
   "cell_type": "markdown",
   "metadata": {},
   "source": [
    "Physical Meaning\n",
    "Small E[H]E[H] → The network is well-connected; on average, nodes are close to each other.Large E[H]E[H] → Nodes are far apart, meaning communication or spreading processes take more steps.Small Hmax⁡H max​\t  → The network is compact; the worst-case path is short.Large Hmax⁡H max​\t  → The network has long chains or poorly connected parts.\n"
   ]
  },
  {
   "cell_type": "markdown",
   "metadata": {},
   "source": [
    "Misschien nog ff specifiseren wat small en wat large is."
   ]
  },
  {
   "cell_type": "markdown",
   "metadata": {},
   "source": [
    "Vraag A.6."
   ]
  },
  {
   "cell_type": "code",
   "execution_count": 8,
   "metadata": {},
   "outputs": [
    {
     "name": "stdout",
     "output_type": "stream",
     "text": [
      "Average shortest path length (E[H]): 1.9547007481296759\n",
      "Clustering coefficient (C): 0.2812358620467742\n",
      "Expected clustering coefficient for random network (C_random): 0.11739401496259351\n"
     ]
    }
   ],
   "source": [
    "E_H = nx.average_shortest_path_length(G)\n",
    "print(\"Average shortest path length (E[H]):\", E_H)\n",
    "C = nx.average_clustering(G)\n",
    "print(\"Clustering coefficient (C):\", C)\n",
    "N = G.number_of_nodes()\n",
    "L = G.number_of_edges()\n",
    "C_random = L / (N * (N - 1) / 2)\n",
    "print(\"Expected clustering coefficient for random network (C_random):\", C_random)\n"
   ]
  },
  {
   "cell_type": "code",
   "execution_count": null,
   "metadata": {},
   "outputs": [],
   "source": []
  }
 ],
 "metadata": {
  "kernelspec": {
   "display_name": "base",
   "language": "python",
   "name": "python3"
  },
  "language_info": {
   "codemirror_mode": {
    "name": "ipython",
    "version": 3
   },
   "file_extension": ".py",
   "mimetype": "text/x-python",
   "name": "python",
   "nbconvert_exporter": "python",
   "pygments_lexer": "ipython3",
   "version": "3.8.8"
  }
 },
 "nbformat": 4,
 "nbformat_minor": 2
}
